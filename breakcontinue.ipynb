{
 "cells": [
  {
   "cell_type": "code",
   "execution_count": 1,
   "id": "f6b46811-9794-49f9-bac1-d683fef3b429",
   "metadata": {},
   "outputs": [
    {
     "name": "stdout",
     "output_type": "stream",
     "text": [
      "1\n",
      "2\n",
      "3\n",
      "4\n",
      "5\n"
     ]
    }
   ],
   "source": [
    "'''\n",
    "instructions unclear whether i have to stop printing \n",
    "when i encounter 5 (5 printed ) or stop the program from printing any\n",
    "further if the next number is 5 (5 not being printed )\n",
    "\n",
    "'''\n",
    "#print one to ten but stop at 5 \n",
    "for i in range (1 ,11):\n",
    "    print(i)\n",
    "    if(i==5):\n",
    "        break"
   ]
  },
  {
   "cell_type": "code",
   "execution_count": 18,
   "id": "703801b3-e8c4-4e76-b7e0-3a6ba2f73884",
   "metadata": {},
   "outputs": [
    {
     "name": "stdout",
     "output_type": "stream",
     "text": [
      "10\n",
      "12\n",
      "34\n",
      "Uzumaki\n"
     ]
    }
   ],
   "source": [
    "#break when the desired is found\n",
    "n_list = [10, 12, 34, \"Uzumaki\", \"naruto\", \"dattebaayo\", 56]\n",
    "\n",
    "for i in n_list:\n",
    "    if \"n\" in str(i): #exit when n is found\n",
    "        break\n",
    "    print(i)\n",
    "    "
   ]
  },
  {
   "cell_type": "code",
   "execution_count": 20,
   "id": "7984d8a9-34d5-4bd5-a332-f7f01a2fbfc9",
   "metadata": {},
   "outputs": [
    {
     "name": "stdout",
     "output_type": "stream",
     "text": [
      "1\n",
      "3\n",
      "5\n",
      "7\n",
      "9\n"
     ]
    }
   ],
   "source": [
    "#Write a program to skip printing even numbers from  1 to 10\n",
    "for i in range (1 ,11):\n",
    "    if i%2 ==0:\n",
    "        continue\n",
    "    print(i)"
   ]
  },
  {
   "cell_type": "code",
   "execution_count": 21,
   "id": "af54fbc9-6dec-4491-af84-7a2fbd0aae90",
   "metadata": {},
   "outputs": [
    {
     "name": "stdout",
     "output_type": "stream",
     "text": [
      "0\n",
      "1\n",
      "2\n",
      "3\n",
      "4\n",
      "5\n",
      "6\n",
      "7\n",
      "8\n",
      "9\n"
     ]
    }
   ],
   "source": [
    "#Write a program to print numbers from 0 to 9 using range() \n",
    "for num in range(10):\n",
    "    print(num)"
   ]
  },
  {
   "cell_type": "code",
   "execution_count": 29,
   "id": "67a48986-d29f-4741-b2a2-937c50561657",
   "metadata": {},
   "outputs": [
    {
     "name": "stdout",
     "output_type": "stream",
     "text": [
      "Table for  1 :\n",
      "1 * 1 = 1\n",
      "1 * 2 = 2\n",
      "1 * 3 = 3\n",
      "1 * 4 = 4\n",
      "1 * 5 = 5\n",
      "1 * 6 = 6\n",
      "1 * 7 = 7\n",
      "1 * 8 = 8\n",
      "1 * 9 = 9\n",
      "1 * 10 = 10\n",
      "\n",
      "Table for  2 :\n",
      "2 * 1 = 2\n",
      "2 * 2 = 4\n",
      "2 * 3 = 6\n",
      "2 * 4 = 8\n",
      "2 * 5 = 10\n",
      "2 * 6 = 12\n",
      "2 * 7 = 14\n",
      "2 * 8 = 16\n",
      "2 * 9 = 18\n",
      "2 * 10 = 20\n",
      "\n",
      "Table for  3 :\n",
      "3 * 1 = 3\n",
      "3 * 2 = 6\n",
      "3 * 3 = 9\n",
      "3 * 4 = 12\n",
      "3 * 5 = 15\n",
      "3 * 6 = 18\n",
      "3 * 7 = 21\n",
      "3 * 8 = 24\n",
      "3 * 9 = 27\n",
      "3 * 10 = 30\n",
      "\n",
      "Table for  4 :\n",
      "4 * 1 = 4\n",
      "4 * 2 = 8\n",
      "4 * 3 = 12\n",
      "4 * 4 = 16\n",
      "4 * 5 = 20\n",
      "4 * 6 = 24\n",
      "4 * 7 = 28\n",
      "4 * 8 = 32\n",
      "4 * 9 = 36\n",
      "4 * 10 = 40\n",
      "\n",
      "Table for  5 :\n",
      "5 * 1 = 5\n",
      "5 * 2 = 10\n",
      "5 * 3 = 15\n",
      "5 * 4 = 20\n",
      "5 * 5 = 25\n",
      "5 * 6 = 30\n",
      "5 * 7 = 35\n",
      "5 * 8 = 40\n",
      "5 * 9 = 45\n",
      "5 * 10 = 50\n",
      "\n"
     ]
    }
   ],
   "source": [
    "\"\"\"\n",
    "did not understand the meaning of the statement \"stop after the first table is printed\" \n",
    "as till what number does the 1st table go upto <so i assumend it to be 10 \n",
    "but clearly there was no particular requirnment of break / continue keywords\n",
    "hence nullifying the objective of the respective assignment ,\n",
    "so i believe i have made an error in understanding the question please correct me \n",
    "\"\"\"\n",
    "\n",
    "for i in range(1, 6):\n",
    "    print(\"Table for \" ,i,\":\")\n",
    "    for j in range(1, 11):\n",
    "        product = i * j\n",
    "        print(i,\"*\" ,j, \"=\",product)\n",
    "    print() "
   ]
  },
  {
   "cell_type": "code",
   "execution_count": 2,
   "id": "dca94401-eaf5-4e35-b43a-2f5c48332c07",
   "metadata": {},
   "outputs": [
    {
     "name": "stdout",
     "output_type": "stream",
     "text": [
      "1\n",
      "3\n",
      "5\n",
      "7\n",
      "9\n",
      "11\n",
      "13\n",
      "15\n",
      "17\n",
      "19\n",
      "21\n",
      "23\n",
      "25\n",
      "27\n",
      "29\n",
      "31\n",
      "33\n",
      "35\n",
      "37\n",
      "39\n",
      "41\n",
      "43\n",
      "45\n",
      "47\n",
      "49\n"
     ]
    }
   ],
   "source": [
    "'''\n",
    "stopping criteria unavailable in the given question\n",
    "\"Write a program to skip printing even numbers using a while loop.\"\n",
    "due to which it might end up in an infinite loop hence assumed 50\n",
    "\n",
    "'''\n",
    "\n",
    "i =0\n",
    "while(True):\n",
    "    i=i+1\n",
    "    if i==50:\n",
    "        break\n",
    "    if i%2 ==0:\n",
    "        continue\n",
    "    print(i)\n",
    "    "
   ]
  },
  {
   "cell_type": "code",
   "execution_count": null,
   "id": "387a5439-ee78-4020-aab4-2d70ce7c9731",
   "metadata": {},
   "outputs": [],
   "source": []
  },
  {
   "cell_type": "code",
   "execution_count": null,
   "id": "43f729a6-85a1-4c84-abf7-ffbd3ff98b1b",
   "metadata": {},
   "outputs": [],
   "source": []
  },
  {
   "cell_type": "code",
   "execution_count": null,
   "id": "48a1cb71-5f3d-4437-90b7-9a4f3e12b532",
   "metadata": {},
   "outputs": [],
   "source": []
  }
 ],
 "metadata": {
  "kernelspec": {
   "display_name": "Python 3 (ipykernel)",
   "language": "python",
   "name": "python3"
  },
  "language_info": {
   "codemirror_mode": {
    "name": "ipython",
    "version": 3
   },
   "file_extension": ".py",
   "mimetype": "text/x-python",
   "name": "python",
   "nbconvert_exporter": "python",
   "pygments_lexer": "ipython3",
   "version": "3.10.8"
  }
 },
 "nbformat": 4,
 "nbformat_minor": 5
}
