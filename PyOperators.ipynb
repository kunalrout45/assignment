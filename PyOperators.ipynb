{
 "cells": [
  {
   "cell_type": "code",
   "execution_count": 4,
   "id": "a57dc5bc-128c-490b-a907-fb5043cdae95",
   "metadata": {},
   "outputs": [
    {
     "name": "stdin",
     "output_type": "stream",
     "text": [
      "enter the first number 10\n",
      "enter the first number 2\n"
     ]
    },
    {
     "name": "stdout",
     "output_type": "stream",
     "text": [
      "the two numbers enterd are :  10.0 and  2.0\n",
      "addition :  12.0\n",
      "subtraction :  8.0\n",
      "product :  20.0\n",
      "quotient :  5.0\n"
     ]
    }
   ],
   "source": [
    "#find addition , sub, product, and quotient of two numbers\n",
    "num1=float(input(\"enter the first number\"))\n",
    "num2=float(input(\"enter the first number\"))\n",
    "print(\"the two numbers enterd are : \" , num1 , \"and \", num2)\n",
    "print(\"addition : \" , num1+num2)\n",
    "print(\"subtraction : \" , num1-num2)\n",
    "print(\"product : \" , num1*num2)\n",
    "print(\"quotient : \" , num1/num2)"
   ]
  },
  {
   "cell_type": "code",
   "execution_count": 1,
   "id": "a7e6aa20-b9f2-4265-ae03-861615f1f945",
   "metadata": {},
   "outputs": [
    {
     "name": "stdout",
     "output_type": "stream",
     "text": [
      "10.5\n",
      "increament  11.5\n",
      "decrement  9.5\n",
      "20.5\n",
      "18.5\n",
      "9.25\n",
      "18.5\n",
      "0.5\n",
      "5.0\n",
      "80\n",
      "10\n",
      "10\n",
      "8\n",
      "31\n",
      "1024\n"
     ]
    }
   ],
   "source": [
    "#various assignment operations\n",
    "a=10.50\n",
    "b=a\n",
    "print(a)\n",
    "print(\"increament \",a+1)\n",
    "print(\"decrement \",a-1)\n",
    "a+=10\n",
    "print(a)\n",
    "a-=2\n",
    "print(a)\n",
    "a/=2\n",
    "print(a)\n",
    "a*=2\n",
    "print(a)\n",
    "a%=2\n",
    "print(a)\n",
    "b//=2\n",
    "print(b)\n",
    "b=10\n",
    "b<<=3\n",
    "print(b)\n",
    "b>>=3\n",
    "print(b)\n",
    "b&=11\n",
    "print(b)\n",
    "b^=2\n",
    "print(b)\n",
    "b|=23\n",
    "print(b)\n",
    "b=2\n",
    "b**=10\n",
    "print(b)"
   ]
  },
  {
   "cell_type": "code",
   "execution_count": 3,
   "id": "bf1b04a6-23f7-4526-825d-153cadd8f61b",
   "metadata": {},
   "outputs": [
    {
     "name": "stdin",
     "output_type": "stream",
     "text": [
      "enter the first number 34\n",
      "enter the second number 35\n"
     ]
    },
    {
     "name": "stdout",
     "output_type": "stream",
     "text": [
      "34.0  <  35.0\n"
     ]
    }
   ],
   "source": [
    "#compare \n",
    "a=float(input(\"enter the first number\"))\n",
    "b=float(input(\"enter the second number\"))\n",
    "if(a==b):\n",
    "    print(\"both are same\")\n",
    "elif(a<b):\n",
    "    print(a,\" < \",b)\n",
    "else:\n",
    "    print(a,\" > \",b)"
   ]
  },
  {
   "cell_type": "code",
   "execution_count": 11,
   "id": "b57fbde0-c4dd-4740-a719-9f3cf843b645",
   "metadata": {},
   "outputs": [
    {
     "name": "stdout",
     "output_type": "stream",
     "text": [
      "The number is between 10 and 20.\n",
      "The string is empty.\n",
      "The value is in the list.\n"
     ]
    }
   ],
   "source": [
    "#check conditions\n",
    "number = 15\n",
    "if 10 <= number <= 20 :\n",
    "    print(\"The number is between 10 and 20.\")\n",
    "\n",
    "# Check if a string is empty\n",
    "string = \"\"\n",
    "if string:\n",
    "    print(\"The string is not empty.\")\n",
    "else:\n",
    "    print(\"The string is empty.\")\n",
    "\n",
    "# Check if a list contains a certain value\n",
    "list = [1, 2, 3, 4, 5]\n",
    "value = 3\n",
    "if value in list:\n",
    "    print(\"The value is in the list.\")\n",
    "else:\n",
    "    print(\"The value is not in the list.\")"
   ]
  },
  {
   "cell_type": "code",
   "execution_count": 12,
   "id": "f2249b61-06d4-480c-8058-6fbb2b816468",
   "metadata": {},
   "outputs": [
    {
     "name": "stdout",
     "output_type": "stream",
     "text": [
      "<class 'int'>\n",
      "<class 'float'>\n",
      "<class 'str'>\n",
      "<class 'list'>\n",
      "<class 'tuple'>\n",
      "<class 'dict'>\n"
     ]
    }
   ],
   "source": [
    "#check identity / types of variables\n",
    "my_integer = 1\n",
    "print(type(my_integer))\n",
    "\n",
    "# Check the type of a float variable\n",
    "my_float = 1.1\n",
    "print(type(my_float))\n",
    "\n",
    "# Check the type of a string variable\n",
    "my_string = \"Hello world!\"\n",
    "print(type(my_string))\n",
    "\n",
    "# Check the type of a list variable\n",
    "my_list = [1, 2, 3]\n",
    "print(type(my_list))\n",
    "\n",
    "# Check the type of a tuple variable\n",
    "my_tuple = (1, 2, 3)\n",
    "print(type(my_tuple))\n",
    "\n",
    "# Check the type of a dictionary variable\n",
    "my_dictionary = {\"name\": \"John\", \"age\": 30}\n",
    "print(type(my_dictionary))"
   ]
  },
  {
   "cell_type": "code",
   "execution_count": 13,
   "id": "06fad1aa-ec6c-4a6c-888b-8b3f1f03b4d2",
   "metadata": {},
   "outputs": [
    {
     "name": "stdout",
     "output_type": "stream",
     "text": [
      "0\n",
      "14\n",
      "14\n",
      "-11\n",
      "40\n",
      "2\n"
     ]
    }
   ],
   "source": [
    "#bitwise operations\n",
    "# Bitwise AND\n",
    "x = 10\n",
    "y = 4\n",
    "print(x & y)  \n",
    "\n",
    "# Bitwise OR\n",
    "x = 10\n",
    "y = 4\n",
    "print(x | y) \n",
    "\n",
    "# Bitwise XOR\n",
    "x = 10\n",
    "y = 4\n",
    "print(x ^ y) \n",
    "\n",
    "# Bitwise NOT\n",
    "x = 10\n",
    "print(~x)\n",
    "\n",
    "# Bitwise left shift\n",
    "x = 10\n",
    "print(x << 2)  \n",
    "\n",
    "# Bitwise right shift\n",
    "x = 10\n",
    "print(x >> 2) "
   ]
  },
  {
   "cell_type": "code",
   "execution_count": 27,
   "id": "3a67894a-b04b-477d-a914-e5c05a143015",
   "metadata": {},
   "outputs": [
    {
     "name": "stdout",
     "output_type": "stream",
     "text": [
      "Adult\n"
     ]
    }
   ],
   "source": [
    "#ternary operator\n",
    "age = 20\n",
    "neelam = \"Adult\" if age >= 18 else \"Minor\"\n",
    "print(neelam)"
   ]
  },
  {
   "cell_type": "code",
   "execution_count": null,
   "id": "96c9e02a-be87-4d14-bb85-2bbf34f70c7d",
   "metadata": {},
   "outputs": [],
   "source": []
  }
 ],
 "metadata": {
  "kernelspec": {
   "display_name": "Python 3 (ipykernel)",
   "language": "python",
   "name": "python3"
  },
  "language_info": {
   "codemirror_mode": {
    "name": "ipython",
    "version": 3
   },
   "file_extension": ".py",
   "mimetype": "text/x-python",
   "name": "python",
   "nbconvert_exporter": "python",
   "pygments_lexer": "ipython3",
   "version": "3.10.8"
  }
 },
 "nbformat": 4,
 "nbformat_minor": 5
}
