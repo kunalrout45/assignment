{
 "cells": [
  {
   "cell_type": "code",
   "execution_count": 4,
   "id": "da9710f4-f588-4a03-839c-2f88a684ff9c",
   "metadata": {},
   "outputs": [
    {
     "name": "stdout",
     "output_type": "stream",
     "text": [
      "1\n",
      "2\n",
      "3\n",
      "4\n",
      "5\n"
     ]
    }
   ],
   "source": [
    "#print 1 to 5 using while loop\n",
    "i=1\n",
    "while(i<6):\n",
    "    print(i)\n",
    "    i+=1"
   ]
  },
  {
   "cell_type": "code",
   "execution_count": 8,
   "id": "e272c61c-907b-4102-9c87-2028e3a403e5",
   "metadata": {},
   "outputs": [
    {
     "name": "stdout",
     "output_type": "stream",
     "text": [
      "55\n"
     ]
    }
   ],
   "source": [
    "#sum from 1 to 10\n",
    "i,sum=1,0\n",
    "while(i<=10):\n",
    "    sum+=i\n",
    "    i+=1\n",
    "print(sum)"
   ]
  },
  {
   "cell_type": "code",
   "execution_count": 19,
   "id": "952b33ac-55e1-4b64-826a-e2f77bff4ca7",
   "metadata": {},
   "outputs": [
    {
     "name": "stdin",
     "output_type": "stream",
     "text": [
      "enter number for factorial 0\n"
     ]
    },
    {
     "name": "stdout",
     "output_type": "stream",
     "text": [
      "factorial is : 1\n"
     ]
    }
   ],
   "source": [
    "#factorial \n",
    "num=int(input(\"enter number for factorial\"))\n",
    "fact=1\n",
    "if(num==0 ):\n",
    "    print(\"factorial is :\" , fact)\n",
    "   \n",
    "else:\n",
    "    for i in range(1 , num+1):\n",
    "        fact*=i\n",
    "    print(\"factorial is :\" , fact)"
   ]
  },
  {
   "cell_type": "code",
   "execution_count": 26,
   "id": "a83f4e16-d47c-42cb-a1c0-ace06e6bfebb",
   "metadata": {},
   "outputs": [
    {
     "name": "stdin",
     "output_type": "stream",
     "text": [
      "enter your desired string %aeiOU%\n"
     ]
    },
    {
     "name": "stdout",
     "output_type": "stream",
     "text": [
      "numbers of vowels :  5\n"
     ]
    }
   ],
   "source": [
    "#count vowels in a string\n",
    "test=input(\"enter your desired string\")\n",
    "test=test.lower()\n",
    "count=0\n",
    "for i in test:\n",
    "    if(\"a\" in i or \"e\" in i or \"i\" in i or \"o\" in i or \"u\" in i ):\n",
    "        count+=1\n",
    "print(\"numbers of vowels : \",count)"
   ]
  },
  {
   "cell_type": "code",
   "execution_count": 10,
   "id": "bc6a0ac7-c8b4-48d7-abc2-d83e60e3ad0b",
   "metadata": {},
   "outputs": [
    {
     "name": "stdout",
     "output_type": "stream",
     "text": [
      "    *\n",
      "   ***\n",
      "  *****\n",
      " *******\n",
      "*********\n"
     ]
    }
   ],
   "source": [
    "# pattern \n",
    "height=5\n",
    "for i in range(height):\n",
    "    for j in range(height - i - 1):\n",
    "        print(\" \", end=\"\")\n",
    "    \n",
    "    for k in range(2 * i + 1):\n",
    "        print(\"*\", end=\"\")\n",
    "\n",
    "    print()\n",
    "    "
   ]
  },
  {
   "cell_type": "code",
   "execution_count": 20,
   "id": "cf1b36a5-cc4e-4405-bcbb-76f578a096e3",
   "metadata": {},
   "outputs": [
    {
     "name": "stdin",
     "output_type": "stream",
     "text": [
      "till what number do you want to find table  10\n"
     ]
    },
    {
     "name": "stdout",
     "output_type": "stream",
     "text": [
      "1 x 1 = 1  1 x 2 = 2  1 x 3 = 3  1 x 4 = 4  1 x 5 = 5  1 x 6 = 6  1 x 7 = 7  1 x 8 = 8  1 x 9 = 9  1 x 10 = 10  \n",
      "2 x 1 = 2  2 x 2 = 4  2 x 3 = 6  2 x 4 = 8  2 x 5 = 10  2 x 6 = 12  2 x 7 = 14  2 x 8 = 16  2 x 9 = 18  2 x 10 = 20  \n",
      "3 x 1 = 3  3 x 2 = 6  3 x 3 = 9  3 x 4 = 12  3 x 5 = 15  3 x 6 = 18  3 x 7 = 21  3 x 8 = 24  3 x 9 = 27  3 x 10 = 30  \n",
      "4 x 1 = 4  4 x 2 = 8  4 x 3 = 12  4 x 4 = 16  4 x 5 = 20  4 x 6 = 24  4 x 7 = 28  4 x 8 = 32  4 x 9 = 36  4 x 10 = 40  \n",
      "5 x 1 = 5  5 x 2 = 10  5 x 3 = 15  5 x 4 = 20  5 x 5 = 25  5 x 6 = 30  5 x 7 = 35  5 x 8 = 40  5 x 9 = 45  5 x 10 = 50  \n",
      "6 x 1 = 6  6 x 2 = 12  6 x 3 = 18  6 x 4 = 24  6 x 5 = 30  6 x 6 = 36  6 x 7 = 42  6 x 8 = 48  6 x 9 = 54  6 x 10 = 60  \n",
      "7 x 1 = 7  7 x 2 = 14  7 x 3 = 21  7 x 4 = 28  7 x 5 = 35  7 x 6 = 42  7 x 7 = 49  7 x 8 = 56  7 x 9 = 63  7 x 10 = 70  \n",
      "8 x 1 = 8  8 x 2 = 16  8 x 3 = 24  8 x 4 = 32  8 x 5 = 40  8 x 6 = 48  8 x 7 = 56  8 x 8 = 64  8 x 9 = 72  8 x 10 = 80  \n",
      "9 x 1 = 9  9 x 2 = 18  9 x 3 = 27  9 x 4 = 36  9 x 5 = 45  9 x 6 = 54  9 x 7 = 63  9 x 8 = 72  9 x 9 = 81  9 x 10 = 90  \n",
      "10 x 1 = 10  10 x 2 = 20  10 x 3 = 30  10 x 4 = 40  10 x 5 = 50  10 x 6 = 60  10 x 7 = 70  10 x 8 = 80  10 x 9 = 90  10 x 10 = 100  \n"
     ]
    }
   ],
   "source": [
    "#multiplication table \n",
    "n=int(input(\"till what number do you want to find table \"))\n",
    "for i in range (1,n+1):\n",
    "    for j in range(1,11):\n",
    "        print( i,\"x\", j ,\"=\", i*j ,end=\"  \")\n",
    "    print()\n",
    "    "
   ]
  },
  {
   "cell_type": "code",
   "execution_count": null,
   "id": "41ff03ef-aca1-45ca-b641-d9f7f53a6dea",
   "metadata": {},
   "outputs": [],
   "source": []
  }
 ],
 "metadata": {
  "kernelspec": {
   "display_name": "Python 3 (ipykernel)",
   "language": "python",
   "name": "python3"
  },
  "language_info": {
   "codemirror_mode": {
    "name": "ipython",
    "version": 3
   },
   "file_extension": ".py",
   "mimetype": "text/x-python",
   "name": "python",
   "nbconvert_exporter": "python",
   "pygments_lexer": "ipython3",
   "version": "3.10.8"
  }
 },
 "nbformat": 4,
 "nbformat_minor": 5
}
