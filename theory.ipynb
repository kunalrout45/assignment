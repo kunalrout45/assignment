{
 "cells": [
  {
   "cell_type": "code",
   "execution_count": 2,
   "id": "4f447295-bbd0-4586-a57a-084776aa2454",
   "metadata": {},
   "outputs": [
    {
     "data": {
      "text/plain": [
       "'\\nKeywords in Python are reserved words that have special meanings\\nand purposes within the language. \\nThese keywords cannot be used as variable names or identifiers because\\nthey are predefined and serve specific roles in the syntax and structure of Python code.\\nEXAMPLES : if , elif, else ,for , while , def , class \\n'"
      ]
     },
     "execution_count": 2,
     "metadata": {},
     "output_type": "execute_result"
    }
   ],
   "source": [
    "\"\"\"\n",
    "Keywords in Python are reserved words that have special meanings\n",
    "and purposes within the language. \n",
    "These keywords cannot be used as variable names or identifiers because\n",
    "they are predefined and serve specific roles in the syntax and structure of Python code.\n",
    "EXAMPLES : if , elif, else ,for , while , def , class \n",
    "\"\"\"\n"
   ]
  },
  {
   "cell_type": "code",
   "execution_count": 3,
   "id": "48a092f1-2d64-4a32-86ac-50999c538884",
   "metadata": {},
   "outputs": [
    {
     "data": {
      "text/plain": [
       "'\\nValid Characters:\\n\\nIdentifiers can be a combination of lowercase letters (a-z), uppercase letters (A-Z), digits (0-9),or an underscore (_).\\nThe first character of an identifier cannot be a digit, ensuring that identifiers do not start with a number.\\nPython identifiers are case-sensitive, so myVariable, MyVariable, and myvariable are all different identifiers.\\n\\nCannot Start with a Digit:\\n\\nAn identifier cannot start with a digit. For example, 1variable is not a valid identifier, but variable1 is.\\n\\nCannot be a Keyword:\\n\\nYou cannot use reserved words or keywords as identifiers. These are words that Python has reserved for \\nspecific purposes like defining syntax or functionality.\\nExamples include if, else, for, while, def, class, etc.\\n\\nNo Special Characters (except underscore _):\\n\\nSpecial characters like !, @, #, $, %, etc., are not allowed in identifiers, except for the underscore (_).\\n\\nNo Spaces:\\n\\nSpaces are not allowed within an identifier. Use underscores or CamelCase for readability.\\n'"
      ]
     },
     "execution_count": 3,
     "metadata": {},
     "output_type": "execute_result"
    }
   ],
   "source": [
    "\"\"\"\n",
    "Valid Characters:\n",
    "\n",
    "Identifiers can be a combination of lowercase letters (a-z), uppercase letters (A-Z), digits (0-9),or an underscore (_).\n",
    "The first character of an identifier cannot be a digit, ensuring that identifiers do not start with a number.\n",
    "Python identifiers are case-sensitive, so myVariable, MyVariable, and myvariable are all different identifiers.\n",
    "\n",
    "Cannot Start with a Digit:\n",
    "\n",
    "An identifier cannot start with a digit. For example, 1variable is not a valid identifier, but variable1 is.\n",
    "\n",
    "Cannot be a Keyword:\n",
    "\n",
    "You cannot use reserved words or keywords as identifiers. These are words that Python has reserved for \n",
    "specific purposes like defining syntax or functionality.\n",
    "Examples include if, else, for, while, def, class, etc.\n",
    "\n",
    "No Special Characters (except underscore _):\n",
    "\n",
    "Special characters like !, @, #, $, %, etc., are not allowed in identifiers, except for the underscore (_).\n",
    "\n",
    "No Spaces:\n",
    "\n",
    "Spaces are not allowed within an identifier. Use underscores or CamelCase for readability.\n",
    "\"\"\""
   ]
  },
  {
   "cell_type": "code",
   "execution_count": 6,
   "id": "c1753a13-493f-49f6-bb19-4bb611d5d079",
   "metadata": {},
   "outputs": [
    {
     "data": {
      "text/plain": [
       "'\\nthis can also be used for \\ncommenting \\nmltiple line \\nstatement \\n'"
      ]
     },
     "execution_count": 6,
     "metadata": {},
     "output_type": "execute_result"
    }
   ],
   "source": [
    "\"\"\"\n",
    "In Python, comments are used to explain and document the code.\n",
    "They are lines that are not executed by the Python interpreter, \n",
    "and they are purely for the benefit of developers and anyone else reading the code. \n",
    "Comments are ignored by the interpreter when the program is executed.\n",
    "//this whole block enclosed within  serves as a multiple line comment statement\n",
    "\"\"\"\n",
    "#this is an example of single line comment\n",
    "\n",
    "'''\n",
    "this can also be used for \n",
    "commenting \n",
    "mltiple line \n",
    "statement \n",
    "\n",
    "'''\n"
   ]
  },
  {
   "cell_type": "code",
   "execution_count": 7,
   "id": "1f26ca82-0df0-4712-bec3-4da8b527ba30",
   "metadata": {},
   "outputs": [
    {
     "data": {
      "text/plain": [
       "'\\n\\nProper indentation is crucial in Python because it is used to \\n\\\\define the structure and hierarchy of the code. \\nUnlike many other programming languages, \\nPython uses indentation to indicate blocks of code,\\nsuch as those within loops, conditionals, functions, and classes. \\nIndentation in Python serves as a replacement for the more traditional\\ncurly braces {} or keywords like begin and end found in languages like C, Java, or Pascal.\\n\\n'"
      ]
     },
     "execution_count": 7,
     "metadata": {},
     "output_type": "execute_result"
    }
   ],
   "source": [
    "'''\n",
    "\n",
    "Proper indentation is crucial in Python because it is used to \n",
    "\\define the structure and hierarchy of the code. \n",
    "Unlike many other programming languages, \n",
    "Python uses indentation to indicate blocks of code,\n",
    "such as those within loops, conditionals, functions, and classes. \n",
    "Indentation in Python serves as a replacement for the more traditional\n",
    "curly braces {} or keywords like begin and end found in languages like C, Java, or Pascal.\n",
    "\n",
    "'''"
   ]
  },
  {
   "cell_type": "code",
   "execution_count": 8,
   "id": "5e90c3b0-311b-48df-98fc-d4dd5ff85ec2",
   "metadata": {},
   "outputs": [
    {
     "data": {
      "text/plain": [
       "'\\nIf indentation is incorrect in Python, it can lead to various issues, \\nincluding syntax errors, logical errors, and unexpected behavior of the code. \\nPython relies heavily on proper indentation to determine\\nthe structure and organization of the code. \\n\\n'"
      ]
     },
     "execution_count": 8,
     "metadata": {},
     "output_type": "execute_result"
    }
   ],
   "source": [
    "\"\"\"\n",
    "If indentation is incorrect in Python, it can lead to various issues, \n",
    "including syntax errors, logical errors, and unexpected behavior of the code. \n",
    "Python relies heavily on proper indentation to determine\n",
    "the structure and organization of the code. \n",
    "\n",
    "\"\"\""
   ]
  },
  {
   "cell_type": "code",
   "execution_count": 13,
   "id": "03b43c67-01bb-4650-b16a-be0e721a476d",
   "metadata": {},
   "outputs": [
    {
     "data": {
      "text/plain": [
       "13"
      ]
     },
     "execution_count": 13,
     "metadata": {},
     "output_type": "execute_result"
    }
   ],
   "source": [
    "\"\"\"\n",
    "An expression in Python is a piece of code that produces a value.\n",
    "It can be as simple as a single literal value or a complex combination of variables, \n",
    "operators, and function calls. Expressions can be used wherever a value is expected,\n",
    "such as in assignments, \n",
    "function arguments, or within larger expressions.\n",
    "\n",
    "\"\"\"\n",
    "#expression example\n",
    "\n",
    "5\n",
    "\n",
    "2 + 3 * 4\n",
    "\n",
    "\n",
    "len(\"Hello, world!\")\n",
    "\n",
    "\n",
    "\"\"\"\n",
    "A statement in Python is a complete instruction that performs an action. \n",
    "It represents a full command and can consist of one or more expressions.\n",
    "\"\"\"\n"
   ]
  },
  {
   "cell_type": "code",
   "execution_count": null,
   "id": "b0a40ae3-bc14-42de-8d1d-a50e42c15405",
   "metadata": {},
   "outputs": [],
   "source": []
  }
 ],
 "metadata": {
  "kernelspec": {
   "display_name": "Python 3 (ipykernel)",
   "language": "python",
   "name": "python3"
  },
  "language_info": {
   "codemirror_mode": {
    "name": "ipython",
    "version": 3
   },
   "file_extension": ".py",
   "mimetype": "text/x-python",
   "name": "python",
   "nbconvert_exporter": "python",
   "pygments_lexer": "ipython3",
   "version": "3.10.8"
  }
 },
 "nbformat": 4,
 "nbformat_minor": 5
}
