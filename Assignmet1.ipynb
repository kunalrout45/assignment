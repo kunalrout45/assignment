{
 "cells": [
  {
   "cell_type": "code",
   "execution_count": 2,
   "id": "f31273ef-8a4c-450a-9249-c890d4e148ba",
   "metadata": {},
   "outputs": [
    {
     "name": "stdin",
     "output_type": "stream",
     "text": [
      "enter an integer 10\n"
     ]
    },
    {
     "name": "stdout",
     "output_type": "stream",
     "text": [
      "the integer number is :  10\n",
      "corresponding floating-point number is :  10.0\n"
     ]
    }
   ],
   "source": [
    "#Covert an integer to a floating-point mumber.\n",
    "a=int(input(\"enter an integer\"))\n",
    "print(\"the integer number is : \",a)\n",
    "print(\"corresponding floating-point number is : \", float(a))\n"
   ]
  },
  {
   "cell_type": "code",
   "execution_count": 4,
   "id": "489ca816-b49b-44e5-a7bf-d6eb539d8066",
   "metadata": {},
   "outputs": [
    {
     "name": "stdin",
     "output_type": "stream",
     "text": [
      "enter a floating point number 19.78\n"
     ]
    },
    {
     "name": "stdout",
     "output_type": "stream",
     "text": [
      "the floating point number is :  19.78\n",
      "corresponding integer number is :  19\n"
     ]
    }
   ],
   "source": [
    "#Convet a float to an integer\n",
    "a=float(input(\"enter a floating point number\"))\n",
    "print(\"the floating point number is : \",a)\n",
    "print(\"corresponding integer number is : \", int(a))"
   ]
  },
  {
   "cell_type": "code",
   "execution_count": 16,
   "id": "2e5096d2-18ea-464a-a643-5e714938fe7a",
   "metadata": {},
   "outputs": [
    {
     "name": "stdin",
     "output_type": "stream",
     "text": [
      "enter an integer 10\n"
     ]
    },
    {
     "name": "stdout",
     "output_type": "stream",
     "text": [
      "the integer number is :  10\n",
      "the string number is :  10\n",
      "the concated string number is :  10aaaaaaa\n"
     ]
    }
   ],
   "source": [
    "#convert an integer to a string\n",
    "a=int(input(\"enter an integer\"))\n",
    "print(\"the integer number is : \",a)\n",
    "b=str(a)\n",
    "print(\"the string number is : \",b)\n",
    "print(\"the concated string number is : \",b+\"aaaaaaa\")\n"
   ]
  },
  {
   "cell_type": "code",
   "execution_count": 26,
   "id": "ccd292bc-44a5-44d2-b612-1e1b8331edfe",
   "metadata": {},
   "outputs": [
    {
     "name": "stdout",
     "output_type": "stream",
     "text": [
      "[10, 11, 'kunal', 'ytd', 987, 'kunal', 10, 10]\n",
      "(10, 11, 'kunal', 'ytd', 987, 'kunal', 10, 10)\n"
     ]
    }
   ],
   "source": [
    "#list-------->tuple\n",
    "n_list=[10,11,\"kunal\",'ytd',987,\"kunal\",10,10]\n",
    "print(n_list)\n",
    "tup=tuple(n_list)\n",
    "print(tup)"
   ]
  },
  {
   "cell_type": "code",
   "execution_count": 28,
   "id": "01a63cc6-8d5d-4c30-b320-1e99d4d43ba1",
   "metadata": {},
   "outputs": [
    {
     "name": "stdout",
     "output_type": "stream",
     "text": [
      "[10, 11, 'kunal', 'ytd', 987, 'kunal', 10, 10]\n"
     ]
    }
   ],
   "source": [
    "#tuple-------->list\n",
    "m_list=list(tup)\n",
    "print(m_list)"
   ]
  },
  {
   "cell_type": "code",
   "execution_count": 33,
   "id": "f8b553ef-3486-4ec8-a8a8-6d01cf1ed174",
   "metadata": {},
   "outputs": [
    {
     "name": "stdin",
     "output_type": "stream",
     "text": [
      "enter a number to be converted to binary : 10\n"
     ]
    },
    {
     "name": "stdout",
     "output_type": "stream",
     "text": [
      "10\n",
      "corresponding binary number is :  0b1010\n"
     ]
    }
   ],
   "source": [
    "#convert a decimal number to binary \n",
    "a=int(input(\"enter a number to be converted to binary :\"))\n",
    "print(a)\n",
    "print(\"corresponding binary number is : \", bin(a))"
   ]
  },
  {
   "cell_type": "code",
   "execution_count": 38,
   "id": "9ea47a4f-24db-41d4-a83e-8298339c3cc4",
   "metadata": {},
   "outputs": [
    {
     "name": "stdin",
     "output_type": "stream",
     "text": [
      "enter a number : 11011010\n"
     ]
    },
    {
     "data": {
      "text/plain": [
       "True"
      ]
     },
     "execution_count": 38,
     "metadata": {},
     "output_type": "execute_result"
    }
   ],
   "source": [
    "#convert a non zero number to boolean\n",
    "a=int(input(\"enter a number :\"))\n",
    "bool(a)"
   ]
  },
  {
   "cell_type": "code",
   "execution_count": null,
   "id": "fe1973c0-2972-4d60-9799-2739b023ba9c",
   "metadata": {},
   "outputs": [],
   "source": []
  }
 ],
 "metadata": {
  "kernelspec": {
   "display_name": "Python 3 (ipykernel)",
   "language": "python",
   "name": "python3"
  },
  "language_info": {
   "codemirror_mode": {
    "name": "ipython",
    "version": 3
   },
   "file_extension": ".py",
   "mimetype": "text/x-python",
   "name": "python",
   "nbconvert_exporter": "python",
   "pygments_lexer": "ipython3",
   "version": "3.10.8"
  }
 },
 "nbformat": 4,
 "nbformat_minor": 5
}
